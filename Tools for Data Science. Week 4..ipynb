{
 "cells": [
  {
   "cell_type": "markdown",
   "metadata": {
    "collapsed": true
   },
   "source": [
    "# My Jupyter Notebook on IBM Watson Studio"
   ]
  },
  {
   "cell_type": "markdown",
   "metadata": {},
   "source": [
    "<b> Vishwas Tanwar </b> \n",
    "\n",
    "student "
   ]
  },
  {
   "cell_type": "markdown",
   "metadata": {},
   "source": [
    "_Data Science leads us to the future. And I want my place in the future. That is why I am interested in DS._"
   ]
  },
  {
   "cell_type": "markdown",
   "metadata": {},
   "source": [
    "### The next cell will calculate how much money I will pay Coursera as tution fee for course  \"data Science\":"
   ]
  },
  {
   "cell_type": "code",
   "execution_count": 9,
   "metadata": {
    "scrolled": true
   },
   "outputs": [
    {
     "name": "stdout",
     "output_type": "stream",
     "text": [
      "For Data Science course you will pay in total 152 $.\n"
     ]
    }
   ],
   "source": [
    "import math                #importing math for math.ceil() function (rounding up).\n",
    "MonthlyFee = 38            # monthly fee in USD\n",
    "CourseLength = 11          # course length according to Coursera in month\n",
    "MyPace = 3                 # the coefficient which show how much times faster you can pass the course\n",
    "TotalFee = math.ceil(CourseLength/MyPace)*MonthlyFee # counting the fee\n",
    "print('For Data Science course you will pay in total',TotalFee,'$.') # output the values."
   ]
  },
  {
   "cell_type": "markdown",
   "metadata": {},
   "source": [
    "Because: \n",
    "1. There is the chance info is usefull\n",
    "2. It is not a lot for 11 months \n",
    "\n",
    "I think it is fair enough\n",
    "***\n",
    "To see how much will you pay, run this code:\n",
    "```python\n",
    "import math                #importing math for math.ceil() function (rounding up).\n",
    "MonthlyFee = 38            # monthly fee in USD\n",
    "CourseLength = 11          # course length according to Coursera in month\n",
    "MyPace = 3                 # the coefficient which show how much times faster you can pass the course\n",
    "TotalFee = math.ceil(CourseLength/MyPace)*MonthlyFee # counting the fee\n",
    "print('For Data Science course you will pay in total',TotalFee,'$.') # output the values.\n",
    "\n",
    "```\n",
    "\n",
    "* So go on\n",
    "   \n",
    "   `Try it if you can`\n",
    "   \n",
    "   \n",
    "* Here is the link to course: [IBM Data Science Professional Certificate](https://www.coursera.org/professional-certificates/ibm-data-science \"Enroll\")\n",
    "  \n",
    "# An image is a visual representation of something.\n",
    "![alt text][logo]\n",
    "\n",
    "[logo]: https://encrypted-tbn0.gstatic.com/images?q=tbn:ANd9GcSXDRsAPqC9Kg2Nv7IrnVtqA0ZjgL5yOIUvyjY0tevT5Q&s \"IBM company had some problems and wants to hype by doing wrong maketing like this\"\n",
    "   \n",
    "   >“An image is a visual representation of something.”\n",
    "― Vishwas Tanwar\n",
    "\n",
    "~~An image is a visual representation of something.~~\n"
   ]
  }
 ],
 "metadata": {
  "kernelspec": {
   "display_name": "Python 3 (ipykernel)",
   "language": "python",
   "name": "python3"
  },
  "language_info": {
   "codemirror_mode": {
    "name": "ipython",
    "version": 3
   },
   "file_extension": ".py",
   "mimetype": "text/x-python",
   "name": "python",
   "nbconvert_exporter": "python",
   "pygments_lexer": "ipython3",
   "version": "3.9.7"
  }
 },
 "nbformat": 4,
 "nbformat_minor": 1
}
